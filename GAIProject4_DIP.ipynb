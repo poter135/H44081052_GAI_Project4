{
  "cells": [
    {
      "cell_type": "markdown",
      "metadata": {
        "id": "410v711mEEF2"
      },
      "source": [
        "Code for **\"Blind restoration of a JPEG-compressed image\"** and **\"Blind image denoising\"** figures. Select `fname` below to switch between the two.\n",
        "\n",
        "- To see overfitting set `num_iter` to a large value."
      ]
    },
    {
      "cell_type": "code",
      "execution_count": null,
      "metadata": {
        "id": "kSbB8boYEEF5"
      },
      "outputs": [],
      "source": [
        "\"\"\"\n",
        "*Uncomment if running on colab*\n",
        "Set Runtime -> Change runtime type -> Under Hardware Accelerator select GPU in Google Colab\n",
        "\"\"\"\n",
        "!git clone https://github.com/DmitryUlyanov/deep-image-prior\n",
        "!mv deep-image-prior/* ./"
      ]
    },
    {
      "cell_type": "markdown",
      "metadata": {
        "id": "hZllkgKAEEF6"
      },
      "source": [
        "# Import libs"
      ]
    },
    {
      "cell_type": "code",
      "execution_count": null,
      "metadata": {
        "id": "5vVRCrZNEEF6"
      },
      "outputs": [],
      "source": [
        "from __future__ import print_function\n",
        "import matplotlib.pyplot as plt\n",
        "%matplotlib inline\n",
        "\n",
        "import os\n",
        "#os.environ['CUDA_VISIBLE_DEVICES'] = '3'\n",
        "\n",
        "import numpy as np\n",
        "from models import *\n",
        "\n",
        "import torch\n",
        "import torch.optim\n",
        "\n",
        "from skimage.metrics import peak_signal_noise_ratio as compare_psnr\n",
        "from utils.denoising_utils import *\n",
        "\n",
        "torch.backends.cudnn.enabled = True\n",
        "torch.backends.cudnn.benchmark =True\n",
        "\n",
        "dtype = torch.cuda.FloatTensor\n",
        "\n",
        "imsize =-1\n",
        "PLOT = True\n",
        "sigma = 25\n",
        "sigma_ = sigma/255."
      ]
    },
    {
      "cell_type": "code",
      "execution_count": null,
      "metadata": {
        "id": "49rxGZgqEEF7"
      },
      "outputs": [],
      "source": [
        "# deJPEG\n",
        "# fname = 'data/denoising/snail.jpg'\n",
        "\n",
        "## denoising\n",
        "fname = 'data/denoising/F16_GT.png'"
      ]
    },
    {
      "cell_type": "markdown",
      "metadata": {
        "id": "P0g6sHXzEEF7"
      },
      "source": [
        "# Load image"
      ]
    },
    {
      "cell_type": "code",
      "execution_count": null,
      "metadata": {
        "id": "tTYb_pIREEF7"
      },
      "outputs": [],
      "source": [
        "if fname == 'data/denoising/snail.jpg':\n",
        "    img_noisy_pil = crop_image(get_image(fname, imsize)[0], d=32)\n",
        "    img_noisy_np = pil_to_np(img_noisy_pil)\n",
        "\n",
        "    # As we don't have ground truth\n",
        "    img_pil = img_noisy_pil\n",
        "    img_np = img_noisy_np\n",
        "\n",
        "    if PLOT:\n",
        "        plot_image_grid([img_np], 4, 5);\n",
        "\n",
        "elif fname == 'data/denoising/F16_GT.png':\n",
        "    # Add synthetic noise\n",
        "    img_pil = crop_image(get_image(fname, imsize)[0], d=32)\n",
        "    img_np = pil_to_np(img_pil)\n",
        "\n",
        "    img_noisy_pil, img_noisy_np = get_noisy_image(img_np, sigma_)\n",
        "\n",
        "    if PLOT:\n",
        "        plot_image_grid([img_np, img_noisy_np], 4, 6);\n",
        "else:\n",
        "    assert False"
      ]
    },
    {
      "cell_type": "markdown",
      "metadata": {
        "id": "VO0_j39tEEF8"
      },
      "source": [
        "# Setup"
      ]
    },
    {
      "cell_type": "code",
      "execution_count": null,
      "metadata": {
        "id": "AMthRbwnEEF8"
      },
      "outputs": [],
      "source": [
        "INPUT = 'noise' # 'meshgrid'\n",
        "pad = 'reflection'\n",
        "OPT_OVER = 'net' # 'net,input'\n",
        "\n",
        "reg_noise_std = 1./30. # set to 1./20. for sigma=50\n",
        "LR = 0.01\n",
        "\n",
        "OPTIMIZER='adam' # 'LBFGS'\n",
        "show_every = 100\n",
        "exp_weight=0.99\n",
        "\n",
        "if fname == 'data/denoising/snail.jpg':\n",
        "    num_iter = 2400\n",
        "    input_depth = 3\n",
        "    figsize = 5\n",
        "\n",
        "    net = skip(\n",
        "                input_depth, 3,\n",
        "                num_channels_down = [8, 16, 32, 64, 128],\n",
        "                num_channels_up   = [8, 16, 32, 64, 128],\n",
        "                num_channels_skip = [0, 0, 0, 4, 4],\n",
        "                upsample_mode='bilinear',\n",
        "                need_sigmoid=True, need_bias=True, pad=pad, act_fun='LeakyReLU')\n",
        "\n",
        "    net = net.type(dtype)\n",
        "\n",
        "elif fname == 'data/denoising/F16_GT.png':\n",
        "    num_iter = 3000\n",
        "    input_depth = 32\n",
        "    figsize = 4\n",
        "\n",
        "\n",
        "    net = get_net(input_depth, 'skip', pad,\n",
        "                  skip_n33d=128,\n",
        "                  skip_n33u=128,\n",
        "                  skip_n11=4,\n",
        "                  num_scales=5,\n",
        "                  upsample_mode='bilinear').type(dtype)\n",
        "\n",
        "else:\n",
        "    assert False\n",
        "\n",
        "net_input = get_noise(input_depth, INPUT, (img_pil.size[1], img_pil.size[0])).type(dtype).detach()\n",
        "\n",
        "# Compute number of parameters\n",
        "s  = sum([np.prod(list(p.size())) for p in net.parameters()]);\n",
        "print ('Number of params: %d' % s)\n",
        "\n",
        "# Loss\n",
        "mse = torch.nn.MSELoss().type(dtype)\n",
        "\n",
        "img_noisy_torch = np_to_torch(img_noisy_np).type(dtype)"
      ]
    },
    {
      "cell_type": "markdown",
      "metadata": {
        "id": "qoK1Ut_GEEF8"
      },
      "source": [
        "# Optimize"
      ]
    },
    {
      "cell_type": "code",
      "source": [
        "net_input_saved = net_input.detach().clone()\n",
        "noise = net_input.detach().clone()\n",
        "out_avg = None\n",
        "last_net = None\n",
        "psrn_noisy_last = 0\n",
        "\n",
        "i = 0\n",
        "psrn = []\n",
        "net = get_net(input_depth, 'skip', pad,\n",
        "              skip_n33d=128,\n",
        "              skip_n33u=128,\n",
        "              skip_n11=4,\n",
        "              num_scales=5,\n",
        "              upsample_mode='bilinear').type(dtype)\n",
        "def plot_psnr(psrn):\n",
        "    plt.figure(figsize=(10, 6))\n",
        "    plt.plot(psrn, label='PSNR over iterations', color='blue', linestyle='-', marker='o')\n",
        "    plt.title('PSNR over Iterations')\n",
        "    plt.xlabel('Iteration')\n",
        "    plt.ylabel('PSNR')\n",
        "    plt.legend(loc='upper left')\n",
        "    plt.grid(True)\n",
        "    plt.ylim([min(psrn) - 1, max(psrn) + 1])\n",
        "    plt.tight_layout()\n",
        "    plt.show()\n",
        "\n",
        "# closure 函數內部\n",
        "def closure():\n",
        "    global i, out_avg, psrn_noisy_last, last_net, net_input\n",
        "\n",
        "    if reg_noise_std > 0:\n",
        "        net_input = net_input_saved + (noise.normal_() * reg_noise_std)\n",
        "\n",
        "    out = net(net_input)\n",
        "\n",
        "    # 平滑處理\n",
        "    if out_avg is None:\n",
        "        out_avg = out.detach()\n",
        "    else:\n",
        "        out_avg = out_avg * exp_weight + out.detach() * (1 - exp_weight)\n",
        "\n",
        "    total_loss = mse(out, img_noisy_torch)\n",
        "    total_loss.backward()\n",
        "\n",
        "    psrn_noisy = compare_psnr(img_noisy_np, out.detach().cpu().numpy()[0])\n",
        "    psrn_gt = compare_psnr(img_np, out.detach().cpu().numpy()[0])\n",
        "\n",
        "    if PLOT and i % show_every == 0:\n",
        "        out_np = torch_to_np(out)\n",
        "        plot_image_grid([img_np, np.clip(out_np, 0, 1)], factor=figsize)\n",
        "        psrn.append(psrn_gt)\n",
        "        plot_psnr(psrn)\n",
        "\n",
        "    if i % show_every:\n",
        "        if psrn_noisy - psrn_noisy_last < -5:\n",
        "            print('Falling back to previous checkpoint.')\n",
        "            for new_param, net_param in zip(last_net, net.parameters()):\n",
        "                net_param.data.copy_(new_param.cuda())\n",
        "            return total_loss * 0\n",
        "        else:\n",
        "            last_net = [x.detach().cpu() for x in net.parameters()]\n",
        "            psrn_noisy_last = psrn_noisy\n",
        "\n",
        "    i += 1\n",
        "\n",
        "    return total_loss"
      ],
      "metadata": {
        "id": "58YsQBbYATiT"
      },
      "execution_count": null,
      "outputs": []
    },
    {
      "cell_type": "markdown",
      "source": [
        "## 原始DIP\n"
      ],
      "metadata": {
        "id": "2QLTWdglv92o"
      }
    },
    {
      "cell_type": "code",
      "source": [
        "sigma = 25\n",
        "sigma_ = sigma / 255\n",
        "img_pil = crop_image(get_image(fname, imsize)[0], d=32)\n",
        "img_np = pil_to_np(img_pil)\n",
        "img_noisy_pil, img_noisy_np = get_noisy_image(img_np, sigma_)\n",
        "p =plot_image_grid( [img_noisy_np])"
      ],
      "metadata": {
        "id": "ua1aW4pF5OxC"
      },
      "execution_count": null,
      "outputs": []
    },
    {
      "cell_type": "code",
      "execution_count": null,
      "metadata": {
        "scrolled": true,
        "id": "H70bS9DOEEF9"
      },
      "outputs": [],
      "source": [
        "\n",
        "sigma = 25\n",
        "num_iter = 500\n",
        "# 優化過程\n",
        "normal_dip_plot = []\n",
        "for i in range(5):\n",
        "    sigma_ = sigma / 255.\n",
        "    img_pil = crop_image(get_image(fname, imsize)[0], d=32)\n",
        "    img_np = pil_to_np(img_pil)\n",
        "    img_noisy_pil, img_noisy_np = get_noisy_image(img_np, sigma_)\n",
        "    if PLOT:\n",
        "        print(\"Original image and Current noise image\")\n",
        "        plot_image_grid([img_np, img_noisy_np], 4, 6)\n",
        "    p = get_params(OPT_OVER, net, net_input)\n",
        "    optimize(OPTIMIZER, p, closure, LR, num_iter)\n",
        "    out_np = torch_to_np(net(net_input))\n",
        "    normal_dip_plot.append(out_np)"
      ]
    },
    {
      "cell_type": "code",
      "source": [
        "def plot_generate_reults(dip_plot):\n",
        "  fig, axes = plt.subplots(1, 5, figsize=(20, 10))\n",
        "\n",
        "  # Plot each tensor in a different subplot\n",
        "  for i, tensor in enumerate(dip_plot):\n",
        "      # Combine the 3 channels into one image\n",
        "      combined_image = np.transpose(tensor, (1, 2, 0))\n",
        "      axes[i].imshow(combined_image)\n",
        "      axes[i].axis('off')  # Hide the axes\n",
        "\n",
        "  plt.show()\n",
        "plot_generate_reults(normal_dip_plot)"
      ],
      "metadata": {
        "id": "ldx_aehFfqpI"
      },
      "execution_count": null,
      "outputs": []
    },
    {
      "cell_type": "markdown",
      "source": [
        "## 噪音從多到少"
      ],
      "metadata": {
        "id": "Q4F26YweRn8F"
      }
    },
    {
      "cell_type": "code",
      "source": [
        "sigma = 75\n",
        "image = []\n",
        "for i in range(5):\n",
        "  sigma -= 10\n",
        "  sigma_ = sigma/255.\n",
        "  img_pil = crop_image(get_image(fname, imsize)[0], d=32)\n",
        "  img_np = pil_to_np(img_pil)\n",
        "  img_noisy_pil, img_noisy_np = get_noisy_image(img_np, sigma_)\n",
        "  image.append(img_noisy_np)\n",
        "plot_generate_reults(image)"
      ],
      "metadata": {
        "id": "-fm67U9J6AKw"
      },
      "execution_count": null,
      "outputs": []
    },
    {
      "cell_type": "code",
      "source": [
        "import matplotlib.pyplot as plt\n",
        "psrn = []\n",
        "net = get_net(input_depth, 'skip', pad,\n",
        "              skip_n33d=128,\n",
        "              skip_n33u=128,\n",
        "              skip_n11=4,\n",
        "              num_scales=5,\n",
        "              upsample_mode='bilinear').type(dtype)\n",
        "# Compute number of parameters\n",
        "s  = sum([np.prod(list(p.size())) for p in net.parameters()]);\n",
        "print ('Number of params: %d' % s)\n",
        "\n",
        "# Loss\n",
        "mse = torch.nn.MSELoss().type(dtype)\n",
        "\n",
        "img_noisy_torch = np_to_torch(img_noisy_np).type(dtype)\n",
        "\n",
        "sigma = 75\n",
        "num_iter = 500\n",
        "mosttoleast_dip_plot = []\n",
        "for i in range(5):\n",
        "  sigma -= 10\n",
        "  sigma_ = sigma/255.\n",
        "  img_pil = crop_image(get_image(fname, imsize)[0], d=32)\n",
        "  img_np = pil_to_np(img_pil)\n",
        "  img_noisy_pil, img_noisy_np = get_noisy_image(img_np, sigma_)\n",
        "  if PLOT:\n",
        "    print(f\"Original image and Current noise image (noise level{i+1}):\")\n",
        "    plot_image_grid([img_np, img_noisy_np], 4, 6);\n",
        "  p = get_params(OPT_OVER, net, net_input)\n",
        "  optimize(OPTIMIZER, p, closure, LR, num_iter)\n",
        "  out_np = torch_to_np(net(net_input))\n",
        "  mosttoleast_dip_plot.append(out_np)"
      ],
      "metadata": {
        "id": "Czi6KWuwG1Et"
      },
      "execution_count": null,
      "outputs": []
    },
    {
      "cell_type": "code",
      "source": [
        "plot_generate_reults(mosttoleast_dip_plot)"
      ],
      "metadata": {
        "id": "mIaMz52WgSTj"
      },
      "execution_count": null,
      "outputs": []
    },
    {
      "cell_type": "markdown",
      "source": [
        "## 噪音從少到多"
      ],
      "metadata": {
        "id": "N1mMRbOVRq5n"
      }
    },
    {
      "cell_type": "code",
      "source": [
        "import matplotlib.pyplot as plt\n",
        "psrn = []\n",
        "net = get_net(input_depth, 'skip', pad,\n",
        "              skip_n33d=128,\n",
        "              skip_n33u=128,\n",
        "              skip_n11=4,\n",
        "              num_scales=5,\n",
        "              upsample_mode='bilinear').type(dtype)\n",
        "# Compute number of parameters\n",
        "s  = sum([np.prod(list(p.size())) for p in net.parameters()]);\n",
        "print ('Number of params: %d' % s)\n",
        "\n",
        "# Loss\n",
        "mse = torch.nn.MSELoss().type(dtype)\n",
        "\n",
        "sigma = 25\n",
        "num_iter = 500\n",
        "leasttomost_dip_plot = []\n",
        "for i in range(5):\n",
        "  sigma += 10\n",
        "  sigma_ = sigma/255.\n",
        "  img_pil = crop_image(get_image(fname, imsize)[0], d=32)\n",
        "  img_np = pil_to_np(img_pil)\n",
        "  img_noisy_pil, img_noisy_np = get_noisy_image(img_np, sigma_)\n",
        "  img_noisy_torch = np_to_torch(img_noisy_np).type(dtype)\n",
        "  if PLOT:\n",
        "    print(f\"Original image and Current noise image (noise level{i+1}):\")\n",
        "    plot_image_grid([img_np, img_noisy_np], 4, 6);\n",
        "  p = get_params(OPT_OVER, net, net_input)\n",
        "  optimize(OPTIMIZER, p, closure, LR, num_iter)\n",
        "  out_np = torch_to_np(net(net_input))\n",
        "  leasttomost_dip_plot.append(out_np)"
      ],
      "metadata": {
        "id": "H3OcdCFyMXNS"
      },
      "execution_count": null,
      "outputs": []
    },
    {
      "cell_type": "code",
      "source": [
        "plot_generate_reults(leasttomost_dip_plot)"
      ],
      "metadata": {
        "id": "gm5iPqjSgoDz"
      },
      "execution_count": null,
      "outputs": []
    },
    {
      "cell_type": "markdown",
      "source": [
        "## 從大到小，噪聲級別大"
      ],
      "metadata": {
        "id": "dlaH8gdlBRZU"
      }
    },
    {
      "cell_type": "code",
      "source": [
        "import matplotlib.pyplot as plt\n",
        "psrn = []\n",
        "net = get_net(input_depth, 'skip', pad,\n",
        "              skip_n33d=128,\n",
        "              skip_n33u=128,\n",
        "              skip_n11=4,\n",
        "              num_scales=5,\n",
        "              upsample_mode='bilinear').type(dtype)\n",
        "# Compute number of parameters\n",
        "s  = sum([np.prod(list(p.size())) for p in net.parameters()]);\n",
        "print ('Number of params: %d' % s)\n",
        "\n",
        "# Loss\n",
        "mse = torch.nn.MSELoss().type(dtype)\n",
        "\n",
        "img_noisy_torch = np_to_torch(img_noisy_np).type(dtype)\n",
        "\n",
        "sigma = 150\n",
        "num_iter = 500\n",
        "big_mosttoleast_dip_plot = []\n",
        "for i in range(5):\n",
        "  sigma -= 25\n",
        "  sigma_ = sigma/255.\n",
        "  img_pil = crop_image(get_image(fname, imsize)[0], d=32)\n",
        "  img_np = pil_to_np(img_pil)\n",
        "  img_noisy_pil, img_noisy_np = get_noisy_image(img_np, sigma_)\n",
        "  if PLOT:\n",
        "    print(f\"Original image and Current noise image (noise level{i+1}):\")\n",
        "    plot_image_grid([img_np, img_noisy_np], 4, 6);\n",
        "  p = get_params(OPT_OVER, net, net_input)\n",
        "  optimize(OPTIMIZER, p, closure, LR, num_iter)\n",
        "  out_np = torch_to_np(net(net_input))\n",
        "  big_mosttoleast_dip_plot.append(out_np)"
      ],
      "metadata": {
        "id": "4la0c_qjPWvQ"
      },
      "execution_count": null,
      "outputs": []
    },
    {
      "cell_type": "code",
      "source": [
        "plot_generate_reults(big_mosttoleast_dip_plot)"
      ],
      "metadata": {
        "id": "zx_BSitag4Ef"
      },
      "execution_count": null,
      "outputs": []
    },
    {
      "cell_type": "markdown",
      "source": [
        "## 從小到大，噪聲級別大"
      ],
      "metadata": {
        "id": "xHRIebInAls9"
      }
    },
    {
      "cell_type": "code",
      "source": [
        "import matplotlib.pyplot as plt\n",
        "psrn = []\n",
        "net = get_net(input_depth, 'skip', pad,\n",
        "              skip_n33d=128,\n",
        "              skip_n33u=128,\n",
        "              skip_n11=4,\n",
        "              num_scales=5,\n",
        "              upsample_mode='bilinear').type(dtype)\n",
        "# Compute number of parameters\n",
        "s  = sum([np.prod(list(p.size())) for p in net.parameters()]);\n",
        "print ('Number of params: %d' % s)\n",
        "\n",
        "# Loss\n",
        "mse = torch.nn.MSELoss().type(dtype)\n",
        "\n",
        "img_noisy_torch = np_to_torch(img_noisy_np).type(dtype)\n",
        "\n",
        "sigma = 25\n",
        "num_iter = 500\n",
        "big_leasttomost_dip_plot = []\n",
        "for i in range(5):\n",
        "  sigma += 25\n",
        "  sigma_ = sigma/255.\n",
        "  img_pil = crop_image(get_image(fname, imsize)[0], d=32)\n",
        "  img_np = pil_to_np(img_pil)\n",
        "  img_noisy_pil, img_noisy_np = get_noisy_image(img_np, sigma_)\n",
        "  if PLOT:\n",
        "    print(f\"Original image and Current noise image (noise level{i+1}):\")\n",
        "    plot_image_grid([img_np, img_noisy_np], 4, 6);\n",
        "  p = get_params(OPT_OVER, net, net_input)\n",
        "  optimize(OPTIMIZER, p, closure, LR, num_iter)\n",
        "  out_np = torch_to_np(net(net_input))\n",
        "  big_leasttomost_dip_plot.append(out_np)"
      ],
      "metadata": {
        "id": "xpU1nj5uBQWF"
      },
      "execution_count": null,
      "outputs": []
    },
    {
      "cell_type": "code",
      "source": [
        "plot_generate_reults(big_leasttomost_dip_plot)"
      ],
      "metadata": {
        "id": "yxALDDestuWM"
      },
      "execution_count": null,
      "outputs": []
    },
    {
      "cell_type": "code",
      "source": [],
      "metadata": {
        "id": "nG5j_bXqg_A2"
      },
      "execution_count": null,
      "outputs": []
    }
  ],
  "metadata": {
    "kernelspec": {
      "display_name": "Python 3",
      "name": "python3"
    },
    "language_info": {
      "codemirror_mode": {
        "name": "ipython",
        "version": 3
      },
      "file_extension": ".py",
      "mimetype": "text/x-python",
      "name": "python",
      "nbconvert_exporter": "python",
      "pygments_lexer": "ipython3",
      "version": "3.6.9"
    },
    "colab": {
      "provenance": [],
      "gpuType": "T4"
    },
    "accelerator": "GPU"
  },
  "nbformat": 4,
  "nbformat_minor": 0
}